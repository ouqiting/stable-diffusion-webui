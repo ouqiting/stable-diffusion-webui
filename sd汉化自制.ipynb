{
  "cells": [
    {
      "cell_type": "markdown",
      "metadata": {
        "id": "view-in-github",
        "colab_type": "text"
      },
      "source": [
        "<a href=\"https://colab.research.google.com/github/ouqiting/stable-diffusion-webui/blob/main/sd%E6%B1%89%E5%8C%96%E8%87%AA%E5%88%B6.ipynb\" target=\"_parent\"><img src=\"https://colab.research.google.com/assets/colab-badge.svg\" alt=\"Open In Colab\"/></a>"
      ]
    },
    {
      "cell_type": "markdown",
      "metadata": {
        "id": "2twbDuNnZyjM"
      },
      "source": [
        "# GPU Info"
      ]
    },
    {
      "cell_type": "code",
      "execution_count": null,
      "metadata": {
        "colab": {
          "base_uri": "https://localhost:8080/"
        },
        "id": "p8FI40sFj9tU",
        "outputId": "2fb0f348-4a9e-4aaf-a812-55f4d5ebd7b8"
      },
      "outputs": [
        {
          "output_type": "stream",
          "name": "stdout",
          "text": [
            "Thu Dec  8 12:41:38 2022       \n",
            "+-----------------------------------------------------------------------------+\n",
            "| NVIDIA-SMI 460.32.03    Driver Version: 460.32.03    CUDA Version: 11.2     |\n",
            "|-------------------------------+----------------------+----------------------+\n",
            "| GPU  Name        Persistence-M| Bus-Id        Disp.A | Volatile Uncorr. ECC |\n",
            "| Fan  Temp  Perf  Pwr:Usage/Cap|         Memory-Usage | GPU-Util  Compute M. |\n",
            "|                               |                      |               MIG M. |\n",
            "|===============================+======================+======================|\n",
            "|   0  Tesla T4            Off  | 00000000:00:04.0 Off |                    0 |\n",
            "| N/A   40C    P0    15W /  70W |      0MiB / 15109MiB |      0%      Default |\n",
            "|                               |                      |                  N/A |\n",
            "+-------------------------------+----------------------+----------------------+\n",
            "                                                                               \n",
            "+-----------------------------------------------------------------------------+\n",
            "| Processes:                                                                  |\n",
            "|  GPU   GI   CI        PID   Type   Process name                  GPU Memory |\n",
            "|        ID   ID                                                   Usage      |\n",
            "|=============================================================================|\n",
            "|  No running processes found                                                 |\n",
            "+-----------------------------------------------------------------------------+\n"
          ]
        }
      ],
      "source": [
        "!nvidia-smi"
      ]
    },
    {
      "cell_type": "code",
      "execution_count": 1,
      "metadata": {
        "colab": {
          "base_uri": "https://localhost:8080/"
        },
        "id": "7FbVR0dqW22O",
        "outputId": "514c7c3c-cccc-438e-f75f-decad99630a1"
      },
      "outputs": [
        {
          "output_type": "stream",
          "name": "stdout",
          "text": [
            "/content\n",
            "Cloning into 'stable-diffusion-webui'...\n",
            "remote: Enumerating objects: 436, done.\u001b[K\n",
            "remote: Counting objects: 100% (216/216), done.\u001b[K\n",
            "remote: Compressing objects: 100% (194/194), done.\u001b[K\n",
            "remote: Total 436 (delta 92), reused 123 (delta 15), pack-reused 220\u001b[K\n",
            "Receiving objects: 100% (436/436), 30.45 MiB | 9.13 MiB/s, done.\n",
            "Resolving deltas: 100% (135/135), done.\n",
            "/content/stable-diffusion-webui\n",
            "Already up to date.\n"
          ]
        }
      ],
      "source": [
        "%cd /content/\n",
        "!git clone https://github.com/ouqiting/stable-diffusion-webui\n",
        "%cd /content/stable-diffusion-webui\n",
        "!git pull"
      ]
    },
    {
      "cell_type": "markdown",
      "metadata": {
        "id": "CnfuIbcQ-rn_"
      },
      "source": [
        "#Connect to Google Drive"
      ]
    },
    {
      "cell_type": "code",
      "execution_count": null,
      "metadata": {
        "cellView": "form",
        "colab": {
          "base_uri": "https://localhost:8080/"
        },
        "id": "TYULEYPs-4EY",
        "outputId": "a3b33b83-0a78-461b-8b62-e7e0944c4f26"
      },
      "outputs": [
        {
          "output_type": "stream",
          "name": "stdout",
          "text": [
            "/content\n",
            "Mounted at /content/drive\n",
            "models_path: /content/drive/MyDrive/AI/models\n",
            "output_path: /content/drive/MyDrive/AI/StableDiffusion\n",
            "model_copy_to: /content/stable-diffusion-webui/models/Stable-diffusion\n"
          ]
        }
      ],
      "source": [
        "#@markdown # Load the stable-diffusion model\n",
        "\n",
        "#@markdown **Google Drive Path Variables**\n",
        "force_remount = False\n",
        "\n",
        "%cd /content/\n",
        "import os\n",
        "from google.colab import drive\n",
        "try:\n",
        "  drive_path = \"/content/drive\"\n",
        "  drive.mount(drive_path,force_remount=force_remount)\n",
        "  models_path_gdrive = \"/content/drive/MyDrive/AI/models\" #@param {type:\"string\"}\n",
        "  output_path_gdrive = \"/content/drive/MyDrive/AI/StableDiffusion\" #@param {type:\"string\"}\n",
        "  models_path = models_path_gdrive\n",
        "  output_path = output_path_gdrive\n",
        "except:\n",
        "  print(\"mounting drive error\")\n",
        "  exit()\n",
        "\n",
        "os.makedirs(models_path, exist_ok=True)\n",
        "os.makedirs(output_path, exist_ok=True)\n",
        "\n",
        "print(f\"models_path: {models_path}\")\n",
        "print(f\"output_path: {output_path}\")\n",
        "copy_model_path = \"/content/stable-diffusion-webui/models/Stable-diffusion\"\n",
        "os.makedirs(copy_model_path, exist_ok=True)\n",
        "print(f\"model_copy_to: {copy_model_path}\")"
      ]
    },
    {
      "cell_type": "markdown",
      "metadata": {
        "id": "B5XygMHXnXEi"
      },
      "source": [
        "## Copy model"
      ]
    },
    {
      "cell_type": "code",
      "execution_count": null,
      "metadata": {
        "colab": {
          "base_uri": "https://localhost:8080/"
        },
        "id": "pfCRwMlJxTMm",
        "outputId": "d792b17e-4a5d-4f9f-b9f5-cf64139619a5"
      },
      "outputs": [
        {
          "output_type": "stream",
          "name": "stdout",
          "text": [
            "/content/stable-diffusion-webui/models/Stable-diffusion/animefull-final-pruned.ckpt\n"
          ]
        }
      ],
      "source": [
        "#@markdown **拷贝原始模型**\n",
        "copy = False #@param {type:\"boolean\"}\n",
        "\n",
        "from distutils.dir_util import copy_tree\n",
        "\n",
        "if copy:\n",
        "  !cp /content/drive/MyDrive/AI/models/原始/animefull-final-pruned.ckpt /content/stable-diffusion-webui/models/Stable-diffusion/animefull-final-pruned.ckpt\n",
        "  !ls /content/stable-diffusion-webui/models/Stable-diffusion/*"
      ]
    },
    {
      "cell_type": "code",
      "execution_count": null,
      "metadata": {
        "colab": {
          "base_uri": "https://localhost:8080/"
        },
        "id": "0TFmHnJVBRI1",
        "outputId": "7256a7f5-6d4d-4008-87a2-9bc647091aea"
      },
      "outputs": [
        {
          "output_type": "stream",
          "name": "stdout",
          "text": [
            " /content/stable-diffusion-webui/models/Stable-diffusion/animefull-final-pruned.ckpt\n",
            " /content/stable-diffusion-webui/models/Stable-diffusion/Anything-V3.0-pruned-fp32.ckpt\n",
            " /content/stable-diffusion-webui/models/Stable-diffusion/Anything-V3.0.vae.pt\n",
            "'/content/stable-diffusion-webui/models/Stable-diffusion/Put Stable Diffusion checkpoints here.txt'\n"
          ]
        }
      ],
      "source": [
        "!cp /content/drive/MyDrive/AI/models/Anything/Anything-V3.0-pruned-fp32.ckpt /content/stable-diffusion-webui/models/Stable-diffusion/Anything-V3.0-pruned-fp32.ckpt\n",
        "!cp /content/drive/MyDrive/AI/models/Anything/Anything-V3.0.vae.pt /content/stable-diffusion-webui/models/Stable-diffusion/Anything-V3.0.vae.pt\n",
        "!ls /content/stable-diffusion-webui/models/Stable-diffusion/*"
      ]
    },
    {
      "cell_type": "code",
      "execution_count": null,
      "metadata": {
        "colab": {
          "base_uri": "https://localhost:8080/"
        },
        "outputId": "ac594c83-aa7a-4b93-8fd3-65cab06cf0d0",
        "id": "bja5MEshmyO1"
      },
      "outputs": [
        {
          "output_type": "stream",
          "name": "stdout",
          "text": [
            " /content/stable-diffusion-webui/models/Stable-diffusion/AnyJrny90.ckpt\n",
            "'/content/stable-diffusion-webui/models/Stable-diffusion/Put Stable Diffusion checkpoints here.txt'\n"
          ]
        }
      ],
      "source": [
        "#@markdown **拷贝彩画模型**\n",
        "copy = True #@param {type:\"boolean\"}\n",
        "\n",
        "from distutils.dir_util import copy_tree\n",
        "\n",
        "if copy:\n",
        "  !cp /content/drive/MyDrive/AI/models/水彩/AnyJrny90.ckpt /content/stable-diffusion-webui/models/Stable-diffusion/AnyJrny90.ckpt\n",
        "  \n",
        "  !ls /content/stable-diffusion-webui/models/Stable-diffusion/*"
      ]
    },
    {
      "cell_type": "code",
      "source": [
        "!cp /content/drive/MyDrive/AI/models/水彩/Yaguru_Magiku_2.pt /content/stable-diffusion-webui/models/hypernetworks/Yaguru_Magiku_2.pt"
      ],
      "metadata": {
        "id": "1oBn4jiEyKam"
      },
      "execution_count": null,
      "outputs": []
    },
    {
      "cell_type": "markdown",
      "metadata": {
        "id": "Q-5L8Kb6_Q5X"
      },
      "source": [
        "# requirements.txt"
      ]
    },
    {
      "cell_type": "code",
      "execution_count": null,
      "metadata": {
        "colab": {
          "base_uri": "https://localhost:8080/"
        },
        "id": "IB19TzabDtYF",
        "outputId": "97761f68-c35b-4aa3-8e8f-aae95ed80b92"
      },
      "outputs": [
        {
          "output_type": "stream",
          "name": "stdout",
          "text": [
            "/content/stable-diffusion-webui\n",
            "Python 3.8.15 (default, Oct 12 2022, 19:14:39) \n",
            "[GCC 7.5.0]\n",
            "Commit hash: ccb487d41f376effaf0693bfdc4bfed3c5e3dac0\n",
            "Installing gfpgan\n",
            "Installing clip\n",
            "Cloning Stable Diffusion into repositories/stable-diffusion...\n",
            "Cloning Taming Transformers into repositories/taming-transformers...\n",
            "Cloning K-diffusion into repositories/k-diffusion...\n",
            "Cloning CodeFormer into repositories/CodeFormer...\n",
            "Cloning BLIP into repositories/BLIP...\n",
            "Installing requirements for CodeFormer\n",
            "Installing requirements for Web UI\n",
            "Exiting because of --exit argument\n"
          ]
        }
      ],
      "source": [
        "%cd /content/stable-diffusion-webui\n",
        "!COMMANDLINE_ARGS=\"--exit\" REQS_FILE=\"requirements.txt\" python launch.py"
      ]
    },
    {
      "cell_type": "markdown",
      "metadata": {
        "id": "pqXhwqsT_oiO"
      },
      "source": [
        "# Launch web ui"
      ]
    },
    {
      "cell_type": "markdown",
      "metadata": {
        "id": "xt8lbdmC04ox"
      },
      "source": [
        "Launch web ui. You will get a link to nnn.gradio.app, follow it.\n",
        "\n",
        "Commandline arguments are:\n",
        "  - `--share` - create online gradio.app link\n",
        "  - `--gradio-debug` - print outputs to console"
      ]
    },
    {
      "cell_type": "code",
      "execution_count": null,
      "metadata": {
        "colab": {
          "base_uri": "https://localhost:8080/"
        },
        "id": "R-xAdMA5wxXd",
        "outputId": "2b9733c4-de55-44b7-b676-5ad434eece27"
      },
      "outputs": [
        {
          "output_type": "stream",
          "name": "stdout",
          "text": [
            "Python 3.8.15 (default, Oct 12 2022, 19:14:39) \n",
            "[GCC 7.5.0]\n",
            "Commit hash: ccb487d41f376effaf0693bfdc4bfed3c5e3dac0\n",
            "Installing requirements for Web UI\n",
            "Launching Web UI with arguments: --share\n",
            "LatentDiffusion: Running in eps-prediction mode\n",
            "DiffusionWrapper has 859.52 M params.\n",
            "making attention of type 'vanilla' with 512 in_channels\n",
            "Working with z of shape (1, 4, 32, 32) = 4096 dimensions.\n",
            "making attention of type 'vanilla' with 512 in_channels\n",
            "Loading weights [42da2d52] from /content/stable-diffusion-webui/models/Stable-diffusion/AnyJrny90.ckpt\n",
            "Applying cross attention optimization (Doggettx).\n",
            "Model loaded.\n",
            "Loaded a total of 0 textual inversion embeddings.\n",
            "Embeddings: \n",
            "Running on local URL:  http://127.0.0.1:7860\n",
            "Running on public URL: https://cbcb0fbb232ec08d.gradio.app\n",
            "\n",
            "This share link expires in 72 hours. For free permanent hosting and GPU upgrades (NEW!), check out Spaces: https://huggingface.co/spaces\n",
            "Loading hypernetwork Yaguru_Magiku_2(cfc99f0c)\n",
            "[1, 2, 1]\n",
            "Activation function is None\n",
            "Weight initialization is Normal\n",
            "Layer norm is set to False\n",
            "Dropout usage is set to False\n",
            "Activate last layer is set to True\n",
            "Optimizer name is AdamW\n",
            "No saved optimizer exists in checkpoint\n",
            "Closing server running on port: 7860\n",
            "Reloading extensions\n",
            "Reloading custom scripts\n",
            "Reloading modules: modules.ui\n",
            "Refreshing Model List\n",
            "Restarting Gradio\n",
            "Running on local URL:  http://127.0.0.1:7860\n",
            "Running on public URL: https://88b237e59ed710cc.gradio.app\n",
            "\n",
            "This share link expires in 72 hours. For free permanent hosting and GPU upgrades (NEW!), check out Spaces: https://huggingface.co/spaces\n",
            "  2% 1/50 [00:03<03:03,  3.75s/it]\n",
            "  8% 4/50 [00:04<00:33,  1.36it/s]\n",
            " 14% 7/50 [00:05<00:17,  2.52it/s]\n",
            " 20% 10/50 [00:06<00:12,  3.19it/s]\n",
            " 26% 13/50 [00:07<00:10,  3.40it/s]\n",
            " 32% 16/50 [00:07<00:09,  3.52it/s]\n",
            " 38% 19/50 [00:08<00:08,  3.56it/s]\n",
            " 44% 22/50 [00:09<00:07,  3.59it/s]\n",
            " 50% 25/50 [00:10<00:06,  3.85it/s]\n",
            " 56% 28/50 [00:11<00:05,  3.90it/s]\n",
            " 62% 31/50 [00:11<00:04,  3.94it/s]\n",
            " 68% 34/50 [00:12<00:04,  3.93it/s]\n",
            " 74% 37/50 [00:13<00:03,  3.95it/s]\n",
            " 80% 40/50 [00:14<00:02,  3.95it/s]\n",
            " 86% 43/50 [00:14<00:01,  3.94it/s]\n",
            " 92% 46/50 [00:15<00:01,  3.91it/s]\n",
            " 98% 49/50 [00:16<00:00,  3.95it/s]\n",
            "100% 50/50 [00:16<00:00,  3.01it/s]\n",
            "Total progress:  34% 17/50 [00:13<00:25,  1.28it/s]\n",
            "  2% 1/50 [00:00<00:18,  2.61it/s]\n",
            "  8% 4/50 [00:01<00:18,  2.44it/s]\n",
            " 14% 7/50 [00:02<00:17,  2.43it/s]\n",
            " 20% 10/50 [00:04<00:16,  2.42it/s]\n",
            " 26% 13/50 [00:05<00:15,  2.41it/s]\n",
            " 32% 16/50 [00:06<00:14,  2.41it/s]\n",
            " 38% 19/50 [00:07<00:12,  2.41it/s]\n",
            " 44% 22/50 [00:09<00:11,  2.41it/s]\n",
            " 50% 25/50 [00:10<00:10,  2.41it/s]\n",
            " 56% 28/50 [00:11<00:09,  2.40it/s]\n",
            " 62% 31/50 [00:12<00:07,  2.41it/s]\n",
            " 68% 34/50 [00:14<00:06,  2.40it/s]\n",
            " 74% 37/50 [00:15<00:05,  2.40it/s]\n",
            " 80% 40/50 [00:16<00:04,  2.40it/s]\n",
            " 86% 43/50 [00:17<00:02,  2.40it/s]\n",
            " 92% 46/50 [00:19<00:01,  2.40it/s]\n",
            " 98% 49/50 [00:20<00:00,  2.39it/s]\n",
            "100% 50/50 [00:20<00:00,  2.41it/s]\n",
            "Total progress:  34% 17/50 [00:20<00:40,  1.23s/it]\n",
            "  2% 1/50 [00:00<00:18,  2.69it/s]\n",
            "  8% 4/50 [00:01<00:18,  2.51it/s]\n",
            " 14% 7/50 [00:02<00:17,  2.49it/s]\n",
            " 20% 10/50 [00:03<00:16,  2.48it/s]\n",
            " 26% 13/50 [00:05<00:14,  2.48it/s]\n",
            " 32% 16/50 [00:06<00:13,  2.48it/s]\n",
            " 38% 19/50 [00:07<00:12,  2.48it/s]\n",
            " 44% 22/50 [00:08<00:11,  2.47it/s]\n",
            " 50% 25/50 [00:10<00:10,  2.47it/s]\n",
            " 56% 28/50 [00:11<00:08,  2.47it/s]\n",
            " 62% 31/50 [00:12<00:07,  2.47it/s]\n",
            " 68% 34/50 [00:13<00:06,  2.47it/s]\n",
            " 74% 37/50 [00:14<00:05,  2.46it/s]\n",
            " 80% 40/50 [00:16<00:04,  2.46it/s]\n",
            " 86% 43/50 [00:17<00:02,  2.46it/s]\n",
            " 92% 46/50 [00:18<00:01,  2.46it/s]\n",
            " 98% 49/50 [00:19<00:00,  2.46it/s]\n",
            "100% 50/50 [00:20<00:00,  2.47it/s]\n",
            "Total progress:  34% 17/50 [00:20<00:39,  1.20s/it]\n",
            "  4% 1/28 [00:00<00:10,  2.58it/s]\n",
            " 14% 4/28 [00:01<00:09,  2.48it/s]\n",
            " 25% 7/28 [00:02<00:08,  2.47it/s]\n",
            " 36% 10/28 [00:04<00:07,  2.46it/s]\n",
            " 46% 13/28 [00:05<00:06,  2.45it/s]\n",
            " 57% 16/28 [00:06<00:04,  2.45it/s]\n",
            " 68% 19/28 [00:07<00:03,  2.44it/s]\n",
            " 79% 22/28 [00:08<00:02,  2.45it/s]\n",
            " 89% 25/28 [00:10<00:01,  2.45it/s]\n",
            "100% 28/28 [00:11<00:00,  2.45it/s]\n",
            "100% 28/28 [00:11<00:00,  2.46it/s]\n",
            "Total progress:  36% 10/28 [00:11<00:20,  1.16s/it]\n",
            "  2% 1/50 [00:00<00:17,  2.79it/s]\n",
            "  8% 4/50 [00:01<00:18,  2.52it/s]\n",
            " 14% 7/50 [00:02<00:17,  2.50it/s]\n",
            " 20% 10/50 [00:03<00:16,  2.50it/s]\n",
            " 26% 13/50 [00:05<00:14,  2.49it/s]\n",
            " 32% 16/50 [00:06<00:13,  2.49it/s]\n",
            " 38% 19/50 [00:07<00:12,  2.49it/s]\n",
            " 44% 22/50 [00:08<00:11,  2.48it/s]\n",
            " 50% 25/50 [00:10<00:10,  2.48it/s]\n",
            " 56% 28/50 [00:11<00:08,  2.48it/s]\n",
            " 62% 31/50 [00:12<00:07,  2.47it/s]\n",
            " 68% 34/50 [00:13<00:06,  2.47it/s]\n",
            " 74% 37/50 [00:14<00:05,  2.47it/s]\n",
            " 80% 40/50 [00:16<00:04,  2.47it/s]\n",
            " 86% 43/50 [00:17<00:02,  2.47it/s]\n",
            " 92% 46/50 [00:18<00:01,  2.47it/s]\n",
            " 98% 49/50 [00:19<00:00,  2.47it/s]\n",
            "100% 50/50 [00:20<00:00,  2.48it/s]\n",
            "Total progress:  34% 17/50 [00:20<00:39,  1.20s/it]\n",
            "  0% 0/50 [00:00<?, ?it/s]\n",
            "  2% 1/50 [00:01<00:57,  1.18s/it]\n",
            "  4% 2/50 [00:02<00:55,  1.15s/it]\n",
            "  6% 3/50 [00:03<00:53,  1.15s/it]\n",
            "  8% 4/50 [00:04<00:52,  1.14s/it]\n",
            " 10% 5/50 [00:05<00:51,  1.14s/it]\n",
            " 12% 6/50 [00:06<00:50,  1.14s/it]\n",
            " 14% 7/50 [00:08<00:49,  1.14s/it]\n",
            " 16% 8/50 [00:09<00:47,  1.14s/it]\n",
            " 18% 9/50 [00:10<00:46,  1.14s/it]\n",
            " 20% 10/50 [00:11<00:45,  1.14s/it]\n",
            " 22% 11/50 [00:12<00:44,  1.14s/it]\n",
            " 24% 12/50 [00:13<00:43,  1.14s/it]\n",
            " 26% 13/50 [00:14<00:42,  1.14s/it]\n",
            " 28% 14/50 [00:15<00:41,  1.14s/it]\n",
            " 30% 15/50 [00:17<00:39,  1.14s/it]\n",
            " 32% 16/50 [00:18<00:38,  1.14s/it]\n",
            " 34% 17/50 [00:19<00:37,  1.14s/it]\n",
            " 36% 18/50 [00:20<00:36,  1.14s/it]\n",
            " 38% 19/50 [00:21<00:35,  1.14s/it]\n",
            " 40% 20/50 [00:22<00:34,  1.14s/it]\n",
            " 42% 21/50 [00:23<00:33,  1.14s/it]\n",
            " 44% 22/50 [00:25<00:32,  1.14s/it]\n",
            " 46% 23/50 [00:26<00:30,  1.14s/it]\n",
            " 48% 24/50 [00:27<00:29,  1.15s/it]\n",
            " 50% 25/50 [00:28<00:28,  1.15s/it]\n",
            " 52% 26/50 [00:29<00:27,  1.14s/it]\n",
            " 54% 27/50 [00:30<00:26,  1.14s/it]\n",
            " 56% 28/50 [00:32<00:25,  1.15s/it]\n",
            " 58% 29/50 [00:33<00:24,  1.14s/it]\n",
            " 60% 30/50 [00:34<00:22,  1.14s/it]\n",
            " 62% 31/50 [00:35<00:21,  1.14s/it]\n",
            " 64% 32/50 [00:36<00:20,  1.15s/it]\n",
            " 66% 33/50 [00:37<00:19,  1.14s/it]\n",
            " 68% 34/50 [00:38<00:18,  1.14s/it]\n",
            " 70% 35/50 [00:40<00:17,  1.15s/it]\n",
            " 72% 36/50 [00:41<00:16,  1.14s/it]\n",
            " 74% 37/50 [00:42<00:14,  1.15s/it]\n",
            " 76% 38/50 [00:43<00:13,  1.14s/it]\n",
            " 78% 39/50 [00:44<00:12,  1.15s/it]\n",
            " 80% 40/50 [00:45<00:11,  1.15s/it]\n",
            " 82% 41/50 [00:46<00:10,  1.15s/it]\n",
            " 84% 42/50 [00:48<00:09,  1.15s/it]\n",
            " 86% 43/50 [00:49<00:08,  1.15s/it]\n",
            " 88% 44/50 [00:50<00:06,  1.15s/it]\n",
            " 90% 45/50 [00:51<00:05,  1.15s/it]\n",
            " 92% 46/50 [00:52<00:04,  1.15s/it]\n",
            " 94% 47/50 [00:53<00:03,  1.15s/it]\n",
            " 96% 48/50 [00:54<00:02,  1.15s/it]\n",
            " 98% 49/50 [00:56<00:01,  1.15s/it]\n",
            "100% 50/50 [00:57<00:00,  1.14s/it]\n",
            "Total progress: 100% 50/50 [00:57<00:00,  1.14s/it]\n",
            "X/Y plot will create 0 images on a 0x1 grid. (Total steps to process: 0)\n",
            "\n",
            "Total progress: 0it [00:00, ?it/s]\u001b[AUnexpected error: draw_xy_grid failed to return even a single processed image\n",
            "Loading hypernetwork Yaguru_Magiku_2(cfc99f0c)\n",
            "[1, 2, 1]\n",
            "Activation function is None\n",
            "Weight initialization is Normal\n",
            "Layer norm is set to False\n",
            "Dropout usage is set to False\n",
            "Activate last layer is set to True\n",
            "Optimizer name is AdamW\n",
            "No saved optimizer exists in checkpoint\n",
            "Error completing request\n",
            "Arguments: ('(((masterpiece))),\\xa0best\\xa0quality,\\xa0illustration,(((1girl))),((cute\\xa0anime\\xa0face)),(beautiful\\xa0detailed\\xa0girl),expressionless,cold\\xa0attitude,\\xa0red\\xa0pupils,\\xa0short\\xa0hair,\\xa0white\\xa0hair,(((beautiful\\xa0detailed\\xa0eyes))),jacket,cracked\\xa0floor,damaged\\xa0classroom,Tables\\xa0and\\xa0chairs\\xa0in\\xa0disarray,The\\xa0residual\\xa0eaves\\xa0DuanBi,beautiful\\xa0sky,cumulus,mouldy,floating,wind,Dead\\xa0end\\xa0machine,(broken\\xa0robot),(Mechanical\\xa0girl)\\n', 'lowres,\\xa0bad\\xa0anatomy,\\xa0bad\\xa0hands,\\xa0text,\\xa0error,\\xa0missing\\xa0fingers,\\xa0extra\\xa0digit,\\xa0fewer\\xa0digits,\\xa0cropped,\\xa0worst\\xa0quality,\\xa0low\\xa0quality,\\xa0normal\\xa0quality,\\xa0jpeg\\xa0artifacts,\\xa0signature,\\xa0watermark,\\xa0username,\\xa0blurrylowres,\\xa0bad\\xa0anatomy,\\xa0bad\\xa0hands,\\xa0text,\\xa0error,\\xa0missing\\xa0fingers,\\xa0extra\\xa0digit,\\xa0fewer\\xa0digits,\\xa0cropped,\\xa0worst\\xa0quality,\\xa0low\\xa0quality,\\xa0normal\\xa0quality,\\xa0jpeg\\xa0artifacts,\\xa0signature,\\xa0watermark,\\xa0username,\\xa0blurry,tidy\\xa0classroom,Neat\\xa0tables\\xa0and\\xa0chairs\\n', 'None', 'None', 45, 8, False, False, 1, 1, 5.5, -1.0, -1.0, 0, 0, 0, False, 512, 768, False, 0.7, 0, 0, 3, False, False, False, '', 8, '', 0, '', True, False, False) {}\n",
            "Traceback (most recent call last):\n",
            "  File \"/content/stable-diffusion-webui/modules/ui.py\", line 185, in f\n",
            "    res = list(func(*args, **kwargs))\n",
            "  File \"/content/stable-diffusion-webui/webui.py\", line 54, in f\n",
            "    res = func(*args, **kwargs)\n",
            "  File \"/content/stable-diffusion-webui/modules/txt2img.py\", line 45, in txt2img\n",
            "    processed = modules.scripts.scripts_txt2img.run(p, *args)\n",
            "  File \"/content/stable-diffusion-webui/modules/scripts.py\", line 296, in run\n",
            "    processed = script.run(p, *script_args)\n",
            "  File \"/content/stable-diffusion-webui/scripts/xy_grid.py\", line 384, in run\n",
            "    processed = draw_xy_grid(\n",
            "  File \"/content/stable-diffusion-webui/scripts/xy_grid.py\", line 226, in draw_xy_grid\n",
            "    return Processed()\n",
            "TypeError: __init__() missing 2 required positional arguments: 'p' and 'images_list'\n",
            "\n",
            "  2% 1/45 [00:00<00:10,  4.08it/s]\n",
            "  9% 4/45 [00:01<00:14,  2.85it/s]\n",
            " 16% 7/45 [00:02<00:13,  2.75it/s]\n",
            " 22% 10/45 [00:03<00:12,  2.71it/s]\n",
            " 29% 13/45 [00:04<00:11,  2.71it/s]\n",
            " 36% 16/45 [00:05<00:10,  2.70it/s]\n",
            " 42% 19/45 [00:06<00:09,  2.70it/s]\n",
            " 49% 22/45 [00:07<00:08,  2.71it/s]\n",
            " 56% 25/45 [00:09<00:07,  2.70it/s]\n",
            " 62% 28/45 [00:10<00:06,  2.70it/s]\n",
            " 69% 31/45 [00:11<00:05,  2.69it/s]\n",
            " 76% 34/45 [00:12<00:04,  2.68it/s]\n",
            " 82% 37/45 [00:13<00:02,  2.69it/s]\n",
            " 89% 40/45 [00:14<00:01,  2.69it/s]\n",
            " 96% 43/45 [00:15<00:00,  2.69it/s]\n",
            "100% 45/45 [00:16<00:00,  2.69it/s]\n",
            "100% 45/45 [00:16<00:00,  2.72it/s]\n",
            "Total progress: 16it [00:31,  1.94s/it]\n",
            "  2% 1/45 [00:00<00:10,  4.24it/s]\n",
            "  9% 4/45 [00:01<00:14,  2.82it/s]\n",
            " 16% 7/45 [00:02<00:13,  2.72it/s]\n",
            " 22% 10/45 [00:03<00:12,  2.69it/s]\n",
            " 29% 13/45 [00:04<00:11,  2.69it/s]\n",
            " 36% 16/45 [00:05<00:10,  2.69it/s]\n",
            " 42% 19/45 [00:06<00:09,  2.68it/s]\n",
            " 49% 22/45 [00:08<00:08,  2.67it/s]\n",
            " 56% 25/45 [00:09<00:07,  2.68it/s]\n",
            " 62% 28/45 [00:10<00:06,  2.68it/s]\n",
            " 69% 31/45 [00:11<00:05,  2.68it/s]\n",
            " 76% 34/45 [00:12<00:04,  2.67it/s]\n",
            " 82% 37/45 [00:13<00:02,  2.67it/s]\n",
            " 89% 40/45 [00:14<00:01,  2.67it/s]\n",
            " 96% 43/45 [00:15<00:00,  2.66it/s]\n",
            "100% 45/45 [00:16<00:00,  2.66it/s]\n",
            "100% 45/45 [00:16<00:00,  2.70it/s]\n",
            "Total progress:  36% 16/45 [00:17<00:31,  1.07s/it]\n"
          ]
        }
      ],
      "source": [
        "!COMMANDLINE_ARGS=\"--share\" REQS_FILE=\"requirements.txt\" python launch.py"
      ]
    },
    {
      "cell_type": "markdown",
      "metadata": {
        "id": "xivwAZeMeiRy"
      },
      "source": [
        "# Copy output to Google Drive"
      ]
    },
    {
      "cell_type": "code",
      "execution_count": null,
      "metadata": {
        "id": "DwFvGJiYelke"
      },
      "outputs": [],
      "source": [
        "#@markdown **Copy output to Google Drive (Optional)**\n",
        "copy_to_google_drive = True #@param {type:\"boolean\"}\n",
        "\n",
        "from distutils.dir_util import copy_tree\n",
        "\n",
        "if copy_to_google_drive:\n",
        "  copy_tree(\"/content/stable-diffusion-webui/outputs\", \"/content/drive/MyDrive/AI/StableDiffusion\")"
      ]
    }
  ],
  "metadata": {
    "accelerator": "GPU",
    "colab": {
      "provenance": [],
      "include_colab_link": true
    },
    "gpuClass": "standard",
    "kernelspec": {
      "display_name": "Python 3",
      "name": "python3"
    },
    "language_info": {
      "name": "python"
    }
  },
  "nbformat": 4,
  "nbformat_minor": 0
}